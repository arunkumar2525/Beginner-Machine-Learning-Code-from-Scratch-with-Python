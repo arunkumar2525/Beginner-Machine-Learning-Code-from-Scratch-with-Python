{
 "cells": [
  {
   "cell_type": "code",
   "execution_count": 67,
   "metadata": {},
   "outputs": [],
   "source": [
    "# Building the multiple linear regression model using stochastic gradient descent\n",
    "# Importing the libraries\n",
    "from csv import reader\n",
    "from random import randrange\n",
    "from random import seed\n",
    "from math import sqrt"
   ]
  },
  {
   "cell_type": "code",
   "execution_count": 68,
   "metadata": {},
   "outputs": [],
   "source": [
    "# Loading the csv file\n",
    "def load_csv(fileName):\n",
    "    dataset=list()\n",
    "    openfile=open(fileName)\n",
    "    readfile=reader(openfile)\n",
    "    for row in readfile:\n",
    "        if not row:\n",
    "            continue\n",
    "        dataset.append(row)\n",
    "    print(\"-----------------load_csv funtion dataset---------------------\")\n",
    "    print(dataset[0])\n",
    "    return dataset"
   ]
  },
  {
   "cell_type": "code",
   "execution_count": 69,
   "metadata": {},
   "outputs": [],
   "source": [
    "# Converting the column string value to float value\n",
    "def convert_string_to_float(dataset,column):\n",
    "    for row in dataset:\n",
    "        row[column]=float(row[column])\n",
    "    print(\"-----------------convert string to float value ---------------------\")\n",
    "    print(dataset[0])\n",
    "        "
   ]
  },
  {
   "cell_type": "code",
   "execution_count": 70,
   "metadata": {},
   "outputs": [],
   "source": [
    "# dataset values are not in same scale.\n",
    "# Applying the normalization technique\n",
    "def minmax(dataset):\n",
    "    minmax=list()\n",
    "    for i in range(len(dataset[0])):\n",
    "        col_value=[row[i] for row in dataset]\n",
    "        value_min=min(col_value)\n",
    "        value_max=max(col_value)\n",
    "        minmax.append([value_min,value_max])\n",
    "    print(\"-----------------min and max values for all columns--------------------\")\n",
    "    print(\"minimum and maximum value :\",minmax)\n",
    "    return minmax"
   ]
  },
  {
   "cell_type": "code",
   "execution_count": 71,
   "metadata": {},
   "outputs": [],
   "source": [
    "# Normalizing the dataset rescale the dataset to 0-1\n",
    "def normalize_datset(dataset,minmax):\n",
    "    for row in dataset:\n",
    "        for i in range(len(dataset[0])):\n",
    "            row[i]=(row[i]-minmax[i][0])/(minmax[i][1]-minmax[i][0])\n",
    "    print(\"-----------rescaled dataset---------------------------------\")\n",
    "    print(dataset[0])"
   ]
  },
  {
   "cell_type": "code",
   "execution_count": 72,
   "metadata": {},
   "outputs": [],
   "source": [
    "# Splitting the dataset into k-fold cross validation\n",
    "def k_fold_cross_validation(dataset,n_fold):\n",
    "    dataset_split=list()\n",
    "    dataset_copy=list(dataset)\n",
    "    fold_size=int(len(dataset)/n_fold)\n",
    "    for _ in range(n_fold):\n",
    "        fold=list()\n",
    "        while len(fold)<fold_size:\n",
    "            index=randrange(len(dataset_copy))\n",
    "            fold.append(dataset_copy.pop(index))\n",
    "        dataset_split.append(fold)\n",
    "    return dataset_split"
   ]
  },
  {
   "cell_type": "code",
   "execution_count": 73,
   "metadata": {},
   "outputs": [],
   "source": [
    "# Calculating the root mean square error\n",
    "# Statical formula rmse=sqrt((sum_error+(predicted x[i]-actual x[i]))/length of actual values)\n",
    "def rmse_metrics(actual,predicted):\n",
    "    sum_error=0\n",
    "    for i in range(len(actual)):\n",
    "        prediction_error=predicted[i]-actual[i]\n",
    "        sum_error+=(prediction_error **2)\n",
    "    mean_error=sum_error/float(len(actual))\n",
    "    return sqrt(mean_error)"
   ]
  },
  {
   "cell_type": "code",
   "execution_count": 74,
   "metadata": {},
   "outputs": [],
   "source": [
    "# evaluate an algorithm using cross validation\n",
    "def evaluate_algorithm(dataset,algorithm,n_fold,*args):\n",
    "    folds=k_fold_cross_validation(dataset,n_fold)\n",
    "    scores=list()\n",
    "    for fold in folds:\n",
    "        train_set=list(folds)\n",
    "        train_set.remove(fold)\n",
    "        train_set=sum(train_set, [])\n",
    "        test_set=list()\n",
    "        for row in fold:\n",
    "            row_copy=list(row)\n",
    "            test_set.append(row_copy)\n",
    "            row_copy[-1]=None\n",
    "        predicted=algorithm(train_set,test_set,*args)\n",
    "        actual=[row[-1] for row in fold]\n",
    "        rmse=rmse_metrics(actual,predicted)\n",
    "        scores.append(rmse)\n",
    "        return scores"
   ]
  },
  {
   "cell_type": "code",
   "execution_count": 75,
   "metadata": {},
   "outputs": [],
   "source": [
    "# Make prediction with coefficients\n",
    "def predict(row,coefficient):\n",
    "    yhat=coefficient[0]\n",
    "    for i in range(len(row)-1):\n",
    "        yhat+=coefficient[i+1]*row[i]\n",
    "    return yhat"
   ]
  },
  {
   "cell_type": "code",
   "execution_count": 76,
   "metadata": {},
   "outputs": [],
   "source": [
    "# Estimate linear regression coefficient using stochastic gradient descent\n",
    "def coefficient_sgd(train,l_rate,n_epoch):\n",
    "    coef=[0.0 for i in range(len(train[0]))]\n",
    "    for _ in range(n_epoch):\n",
    "        for row in train:\n",
    "            yhat=predict(row,coef)\n",
    "            error=yhat-row[-1]\n",
    "            coef[0]=coef[0]-l_rate*error\n",
    "            for i in range(len(row)-1):\n",
    "                coef[i+1]=coef[i+1]-l_rate*error*row[i]\n",
    "    return coef"
   ]
  },
  {
   "cell_type": "code",
   "execution_count": 77,
   "metadata": {},
   "outputs": [],
   "source": [
    "# Linear regression algorithm with stochastic gradient descent\n",
    "def linear_regression_sgd(train,test,l_rate,n_epoch):\n",
    "    predictions=list()\n",
    "    coef=coefficient_sgd(train,l_rate,n_epoch)\n",
    "    for row in test:\n",
    "        yhat=predict(row,coef)\n",
    "        predictions.append(yhat)\n",
    "    return(predictions)"
   ]
  },
  {
   "cell_type": "code",
   "execution_count": 78,
   "metadata": {},
   "outputs": [
    {
     "name": "stdout",
     "output_type": "stream",
     "text": [
      "-----------------load_csv funtion dataset---------------------\n",
      "['7', '0.27', '0.36', '20.7', '0.045', '45', '170', '1.001', '3', '0.45', '8.8', '6']\n",
      "-----------------convert string to float value ---------------------\n",
      "[7.0, '0.27', '0.36', '20.7', '0.045', '45', '170', '1.001', '3', '0.45', '8.8', '6']\n",
      "-----------------convert string to float value ---------------------\n",
      "[7.0, 0.27, '0.36', '20.7', '0.045', '45', '170', '1.001', '3', '0.45', '8.8', '6']\n",
      "-----------------convert string to float value ---------------------\n",
      "[7.0, 0.27, 0.36, '20.7', '0.045', '45', '170', '1.001', '3', '0.45', '8.8', '6']\n",
      "-----------------convert string to float value ---------------------\n",
      "[7.0, 0.27, 0.36, 20.7, '0.045', '45', '170', '1.001', '3', '0.45', '8.8', '6']\n",
      "-----------------convert string to float value ---------------------\n",
      "[7.0, 0.27, 0.36, 20.7, 0.045, '45', '170', '1.001', '3', '0.45', '8.8', '6']\n",
      "-----------------convert string to float value ---------------------\n",
      "[7.0, 0.27, 0.36, 20.7, 0.045, 45.0, '170', '1.001', '3', '0.45', '8.8', '6']\n",
      "-----------------convert string to float value ---------------------\n",
      "[7.0, 0.27, 0.36, 20.7, 0.045, 45.0, 170.0, '1.001', '3', '0.45', '8.8', '6']\n",
      "-----------------convert string to float value ---------------------\n",
      "[7.0, 0.27, 0.36, 20.7, 0.045, 45.0, 170.0, 1.001, '3', '0.45', '8.8', '6']\n",
      "-----------------convert string to float value ---------------------\n",
      "[7.0, 0.27, 0.36, 20.7, 0.045, 45.0, 170.0, 1.001, 3.0, '0.45', '8.8', '6']\n",
      "-----------------convert string to float value ---------------------\n",
      "[7.0, 0.27, 0.36, 20.7, 0.045, 45.0, 170.0, 1.001, 3.0, 0.45, '8.8', '6']\n",
      "-----------------convert string to float value ---------------------\n",
      "[7.0, 0.27, 0.36, 20.7, 0.045, 45.0, 170.0, 1.001, 3.0, 0.45, 8.8, '6']\n",
      "-----------------convert string to float value ---------------------\n",
      "[7.0, 0.27, 0.36, 20.7, 0.045, 45.0, 170.0, 1.001, 3.0, 0.45, 8.8, 6.0]\n"
     ]
    }
   ],
   "source": [
    "# Load dataset\n",
    "fileName='winequality-white.csv'\n",
    "dataset=load_csv(fileName)\n",
    "# convert string to float value\n",
    "for i in range(len(dataset[0])):\n",
    "    convert_string_to_float(dataset,i)\n",
    "    "
   ]
  },
  {
   "cell_type": "code",
   "execution_count": 79,
   "metadata": {},
   "outputs": [
    {
     "name": "stdout",
     "output_type": "stream",
     "text": [
      "-----------------min and max values for all columns--------------------\n",
      "('minimum and maximum value :', [[3.8, 14.2], [0.08, 1.1], [0.0, 1.66], [0.6, 65.8], [0.009, 0.346], [2.0, 289.0], [9.0, 440.0], [0.98711, 1.03898], [2.72, 3.82], [0.22, 1.08], [8.0, 14.2], [3.0, 9.0]])\n",
      "-----------rescaled dataset---------------------------------\n",
      "[0.30769230769230776, 0.18627450980392157, 0.21686746987951808, 0.308282208588957, 0.10682492581602374, 0.14982578397212543, 0.37354988399071926, 0.26778484673221237, 0.25454545454545446, 0.26744186046511625, 0.12903225806451626, 0.5]\n"
     ]
    }
   ],
   "source": [
    "#Normalize\n",
    "minmax=minmax(dataset)\n",
    "normalize_datset(dataset,minmax)"
   ]
  },
  {
   "cell_type": "code",
   "execution_count": 80,
   "metadata": {},
   "outputs": [
    {
     "name": "stdout",
     "output_type": "stream",
     "text": [
      "scores: [0.12829829886675384]\n",
      "mean RMSE : 0.128\n"
     ]
    }
   ],
   "source": [
    "# Evaluate algorithm\n",
    "n_fold=5\n",
    "l_rate=0.01\n",
    "n_epoch=100\n",
    "scores=evaluate_algorithm(dataset,linear_regression_sgd,n_fold,l_rate,n_epoch)\n",
    "print('scores: %s'%scores)\n",
    "print('mean RMSE : %.3f'%(sum(scores)/float(len(scores))))"
   ]
  },
  {
   "cell_type": "code",
   "execution_count": null,
   "metadata": {},
   "outputs": [],
   "source": []
  }
 ],
 "metadata": {
  "kernelspec": {
   "display_name": "Python 3",
   "language": "python",
   "name": "python3"
  },
  "language_info": {
   "codemirror_mode": {
    "name": "ipython",
    "version": 3
   },
   "file_extension": ".py",
   "mimetype": "text/x-python",
   "name": "python",
   "nbconvert_exporter": "python",
   "pygments_lexer": "ipython3",
   "version": "3.7.4"
  }
 },
 "nbformat": 4,
 "nbformat_minor": 2
}
