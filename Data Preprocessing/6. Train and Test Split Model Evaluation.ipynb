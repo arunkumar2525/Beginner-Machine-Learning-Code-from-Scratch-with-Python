{
 "cells": [
  {
   "cell_type": "code",
   "execution_count": null,
   "metadata": {},
   "outputs": [],
   "source": [
    "# We are evaluate our model using train and test split"
   ]
  },
  {
   "cell_type": "code",
   "execution_count": 2,
   "metadata": {},
   "outputs": [],
   "source": [
    "from random import seed\n",
    "from random import randrange\n",
    "def train_test_split(dataset,split=0.75):\n",
    "    train_set=list()\n",
    "    dataset_copy=list(dataset)\n",
    "    train_size=split*(len(dataset))\n",
    "    while len(train_set)<train_size:\n",
    "        index=randrange(len(dataset_copy))\n",
    "        train_set.append(dataset_copy.pop(index))\n",
    "    return train_set,dataset_copy"
   ]
  },
  {
   "cell_type": "code",
   "execution_count": 8,
   "metadata": {},
   "outputs": [
    {
     "name": "stdout",
     "output_type": "stream",
     "text": [
      "('train:', [2, 10, 13, 3, 7, 11, 12, 25])\n",
      "('test:', [1, 6])\n"
     ]
    }
   ],
   "source": [
    "# load dataset\n",
    "# seed() used to set random values not to change\n",
    "seed(1)\n",
    "dataset=[1,2,3,6,7,11,12,13,10,25]\n",
    "split=0.80\n",
    "train,test=train_test_split(dataset,split)\n",
    "print(\"train:\",train)\n",
    "print(\"test:\",test)"
   ]
  },
  {
   "cell_type": "code",
   "execution_count": null,
   "metadata": {},
   "outputs": [],
   "source": []
  }
 ],
 "metadata": {
  "kernelspec": {
   "display_name": "Python 2",
   "language": "python",
   "name": "python2"
  },
  "language_info": {
   "codemirror_mode": {
    "name": "ipython",
    "version": 2
   },
   "file_extension": ".py",
   "mimetype": "text/x-python",
   "name": "python",
   "nbconvert_exporter": "python",
   "pygments_lexer": "ipython2",
   "version": "2.7.16"
  }
 },
 "nbformat": 4,
 "nbformat_minor": 2
}
