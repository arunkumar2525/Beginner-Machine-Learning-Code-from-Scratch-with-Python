{
 "cells": [
  {
   "cell_type": "code",
   "execution_count": null,
   "metadata": {},
   "outputs": [],
   "source": [
    "# Root mean square error Metrics is used for regression algorithm\n",
    "# rmse=sqrt(sum(predicted[i]-actual[i])/total predictions)"
   ]
  },
  {
   "cell_type": "code",
   "execution_count": 4,
   "metadata": {},
   "outputs": [],
   "source": [
    "# Building Root mean square error function\n",
    "from math import sqrt\n",
    "def root_mean_square_error_metrics(actual,predicted):\n",
    "    error=0\n",
    "    for i in range(len(actual)):\n",
    "        error_diff=predicted[i]-actual[i]\n",
    "        error+=error_diff**2\n",
    "    mean_error=error/float(len(actual))\n",
    "    return(sqrt(mean_error))"
   ]
  },
  {
   "cell_type": "code",
   "execution_count": 5,
   "metadata": {},
   "outputs": [
    {
     "name": "stdout",
     "output_type": "stream",
     "text": [
      "--------------------root mean square error-------------------\n",
      "0.0795124029458\n"
     ]
    }
   ],
   "source": [
    "# load data\n",
    "actual=[0.1,0.2,0.3,0.4,0.5,0.6,0.7,0.8,0.9]\n",
    "predicted=[0.11,0.19,0.39,0.49,0.59,0.69,0.79,0.89,0.99]\n",
    "error=root_mean_square_error_metrics(actual,predicted)\n",
    "print(\"--------------------root mean square error-------------------\")\n",
    "print(error)"
   ]
  },
  {
   "cell_type": "code",
   "execution_count": null,
   "metadata": {},
   "outputs": [],
   "source": []
  }
 ],
 "metadata": {
  "kernelspec": {
   "display_name": "Python 2",
   "language": "python",
   "name": "python2"
  },
  "language_info": {
   "codemirror_mode": {
    "name": "ipython",
    "version": 2
   },
   "file_extension": ".py",
   "mimetype": "text/x-python",
   "name": "python",
   "nbconvert_exporter": "python",
   "pygments_lexer": "ipython2",
   "version": "2.7.16"
  }
 },
 "nbformat": 4,
 "nbformat_minor": 2
}
