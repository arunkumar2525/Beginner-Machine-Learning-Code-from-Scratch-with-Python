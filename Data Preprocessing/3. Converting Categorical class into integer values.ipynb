{
 "cells": [
  {
   "cell_type": "code",
   "execution_count": null,
   "metadata": {},
   "outputs": [],
   "source": [
    "# we need to convert our dataset column categorical class values into numerical(integer) values\n",
    "# In our iris flower dataset we have 3 class values Iris-setosa, Iris-versicolor and Iris-virginica.\n",
    "# Next, we assign an integer value to each, such as: 0, 1 and 2.\n",
    "# Finally, we replace all occurrences of class string values with their corresponding integer values."
   ]
  },
  {
   "cell_type": "code",
   "execution_count": 1,
   "metadata": {},
   "outputs": [],
   "source": [
    "# Building Load_csv funtion\n",
    "from csv import reader\n",
    "def load_csv(filename):\n",
    "    dataset=list()\n",
    "    open_file=open(filename,'r')\n",
    "    read_file=reader(open_file)\n",
    "    for row in read_file:\n",
    "        if not row:\n",
    "            continue\n",
    "        dataset.append(row)\n",
    "    return dataset"
   ]
  },
  {
   "cell_type": "code",
   "execution_count": 2,
   "metadata": {},
   "outputs": [],
   "source": [
    "# Building funtion Convert String values into float values\n",
    "def convert_str_to_float(dataset,column):\n",
    "    for row in dataset:\n",
    "        row[column]=float(row[column])"
   ]
  },
  {
   "cell_type": "code",
   "execution_count": 3,
   "metadata": {},
   "outputs": [],
   "source": [
    "# Building function convert categorical class values to numerical or integer values\n",
    "def convert_categoricalvalue_to_integer(dataset,column):\n",
    "    class_value=[row[column] for row in dataset]\n",
    "    unique=set(class_value)\n",
    "    print(\"unique value:\",unique)\n",
    "    lookup=dict()\n",
    "    # assigning unique categorical class values as numerical values(0,1,2)\n",
    "    for i ,value in enumerate(unique):\n",
    "        print(\"i\",i)\n",
    "        print(\"value:\",value)\n",
    "        lookup[value]=i\n",
    "        print(\"lookup[value]\",lookup[value])\n",
    "    # Applying those numerical values to our dataset\n",
    "    for row in dataset:\n",
    "        row[column]=lookup[row[column]]\n",
    "    return lookup"
   ]
  },
  {
   "cell_type": "code",
   "execution_count": 4,
   "metadata": {},
   "outputs": [
    {
     "name": "stdout",
     "output_type": "stream",
     "text": [
      "('unique value:', set(['Iris-virginica', 'Iris-setosa', 'Iris-versicolor']))\n",
      "('i', 0)\n",
      "('value:', 'Iris-virginica')\n",
      "('lookup[value]', 0)\n",
      "('i', 1)\n",
      "('value:', 'Iris-setosa')\n",
      "('lookup[value]', 1)\n",
      "('i', 2)\n",
      "('value:', 'Iris-versicolor')\n",
      "('lookup[value]', 2)\n",
      "['5.1', '3.5', '1.4', '0.2', 1]\n",
      "{'Iris-virginica': 0, 'Iris-setosa': 1, 'Iris-versicolor': 2}\n",
      "[[5.1, 3.5, 1.4, 0.2, 1.0]]\n"
     ]
    }
   ],
   "source": [
    "# Load file\n",
    "filename='iris.csv'\n",
    "dataset=load_csv(filename)\n",
    "lookup=convert_categoricalvalue_to_integer(dataset,4)\n",
    "print(dataset[0])\n",
    "print(lookup)\n",
    "for column in range(len(dataset[0])):\n",
    "    convert_str_to_float(dataset,column)\n",
    "print[dataset[0]]"
   ]
  },
  {
   "cell_type": "code",
   "execution_count": null,
   "metadata": {},
   "outputs": [],
   "source": []
  }
 ],
 "metadata": {
  "kernelspec": {
   "display_name": "Python 2",
   "language": "python",
   "name": "python2"
  },
  "language_info": {
   "codemirror_mode": {
    "name": "ipython",
    "version": 2
   },
   "file_extension": ".py",
   "mimetype": "text/x-python",
   "name": "python",
   "nbconvert_exporter": "python",
   "pygments_lexer": "ipython2",
   "version": "2.7.16"
  }
 },
 "nbformat": 4,
 "nbformat_minor": 2
}
