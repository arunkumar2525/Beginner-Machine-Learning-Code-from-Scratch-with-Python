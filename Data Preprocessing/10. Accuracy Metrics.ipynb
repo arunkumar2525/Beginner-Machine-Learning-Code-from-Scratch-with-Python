{
 "cells": [
  {
   "cell_type": "code",
   "execution_count": null,
   "metadata": {},
   "outputs": [],
   "source": [
    "# Statistical Accuracy Metrics used in classification algorithms\n",
    "'''Accuracy is a good metrics to use when you have a small number of class values, such as 2,\n",
    "   also called a binary classification problem.\n",
    "   Accuracy starts to lose it's meaning when you have more class values and you may need to review a \n",
    "   different perspective on the results, such as a confusion matrix.\n",
    "'''\n"
   ]
  },
  {
   "cell_type": "code",
   "execution_count": 1,
   "metadata": {},
   "outputs": [],
   "source": [
    "def accuracy_metrics(actual,predicted):\n",
    "    correct=0\n",
    "    for i in range(len(actual)):\n",
    "        if actual[i]==predicted[i]:\n",
    "            correct+=1\n",
    "    return correct/float(len(actual))*100.0"
   ]
  },
  {
   "cell_type": "code",
   "execution_count": 2,
   "metadata": {},
   "outputs": [
    {
     "name": "stdout",
     "output_type": "stream",
     "text": [
      "------------------------accuracy metrics-------------\n",
      "84.6153846154\n"
     ]
    }
   ],
   "source": [
    "# load data\n",
    "actual=[1,0,0,1,0,0,1,0,0,1,1,1,1]\n",
    "predicted=[1,0,1,1,0,0,1,0,0,0,1,1,1]\n",
    "accuracy=accuracy_metrics(actual,predicted)\n",
    "print(\"------------------------accuracy metrics-------------\")\n",
    "print(accuracy)"
   ]
  },
  {
   "cell_type": "code",
   "execution_count": null,
   "metadata": {},
   "outputs": [],
   "source": []
  }
 ],
 "metadata": {
  "kernelspec": {
   "display_name": "Python 2",
   "language": "python",
   "name": "python2"
  },
  "language_info": {
   "codemirror_mode": {
    "name": "ipython",
    "version": 2
   },
   "file_extension": ".py",
   "mimetype": "text/x-python",
   "name": "python",
   "nbconvert_exporter": "python",
   "pygments_lexer": "ipython2",
   "version": "2.7.16"
  }
 },
 "nbformat": 4,
 "nbformat_minor": 2
}
