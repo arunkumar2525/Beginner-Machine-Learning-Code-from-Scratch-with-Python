{
 "cells": [
  {
   "cell_type": "code",
   "execution_count": null,
   "metadata": {},
   "outputs": [],
   "source": [
    "# Confusion Metrics is used to find accuracy for classification algorithms\n",
    "# We can use confusion matrix to calculate multiple classes"
   ]
  },
  {
   "cell_type": "code",
   "execution_count": 5,
   "metadata": {},
   "outputs": [],
   "source": [
    "def confusion_matrix(actual,predicted):\n",
    "    unique=set(actual)\n",
    "    print(\"unique:\",unique)\n",
    "    matrix=[list() for row in range(len(unique))]\n",
    "    print(\"matrix\",matrix)\n",
    "    for i in range(len(unique)):\n",
    "        matrix[i]=[0 for x in range(len(unique))]\n",
    "        print(\"matrix[i]\",matrix[i])\n",
    "    lookup=dict()\n",
    "    for i,value in enumerate(unique):\n",
    "        lookup[value]=i\n",
    "        print(\"i\",i)\n",
    "        print(\"lookup[value]\",lookup[value])\n",
    "    for i in range(len(actual)):\n",
    "        x=lookup[actual[i]]\n",
    "        y=lookup[predicted[i]]\n",
    "        print(\"x\",x)\n",
    "        print(\"y\",y)\n",
    "        matrix[y][x]+=1\n",
    "        print(\"matrix[y][x]\",matrix[y][x])\n",
    "    return unique,matrix"
   ]
  },
  {
   "cell_type": "code",
   "execution_count": 6,
   "metadata": {},
   "outputs": [
    {
     "name": "stdout",
     "output_type": "stream",
     "text": [
      "('unique:', set([0, 1]))\n",
      "('matrix', [[], []])\n",
      "('matrix[i]', [0, 0])\n",
      "('matrix[i]', [0, 0])\n",
      "('i', 0)\n",
      "('lookup[value]', 0)\n",
      "('i', 1)\n",
      "('lookup[value]', 1)\n",
      "('x', 1)\n",
      "('y', 1)\n",
      "('matrix[y][x]', 1)\n",
      "('x', 0)\n",
      "('y', 0)\n",
      "('matrix[y][x]', 1)\n",
      "('x', 1)\n",
      "('y', 0)\n",
      "('matrix[y][x]', 1)\n",
      "('x', 1)\n",
      "('y', 1)\n",
      "('matrix[y][x]', 2)\n",
      "('x', 0)\n",
      "('y', 1)\n",
      "('matrix[y][x]', 1)\n",
      "('x', 0)\n",
      "('y', 0)\n",
      "('matrix[y][x]', 2)\n",
      "('x', 1)\n",
      "('y', 1)\n",
      "('matrix[y][x]', 3)\n",
      "('x', 0)\n",
      "('y', 0)\n",
      "('matrix[y][x]', 3)\n",
      "('x', 1)\n",
      "('y', 1)\n",
      "('matrix[y][x]', 4)\n",
      "('x', 0)\n",
      "('y', 0)\n",
      "('matrix[y][x]', 4)\n",
      "('unique', set([0, 1]))\n",
      "('confusion_matrix', [[4, 1], [1, 4]])\n"
     ]
    }
   ],
   "source": [
    "# load data\n",
    "actual=[1,0,1,1,0,0,1,0,1,0]\n",
    "predicted=[1,0,0,1,1,0,1,0,1,0]\n",
    "unique,confusion_matrix=confusion_matrix(actual,predicted)\n",
    "print(\"unique\",unique)\n",
    "print(\"confusion_matrix\",confusion_matrix)"
   ]
  },
  {
   "cell_type": "code",
   "execution_count": null,
   "metadata": {},
   "outputs": [],
   "source": []
  }
 ],
 "metadata": {
  "kernelspec": {
   "display_name": "Python 2",
   "language": "python",
   "name": "python2"
  },
  "language_info": {
   "codemirror_mode": {
    "name": "ipython",
    "version": 2
   },
   "file_extension": ".py",
   "mimetype": "text/x-python",
   "name": "python",
   "nbconvert_exporter": "python",
   "pygments_lexer": "ipython2",
   "version": "2.7.16"
  }
 },
 "nbformat": 4,
 "nbformat_minor": 2
}
