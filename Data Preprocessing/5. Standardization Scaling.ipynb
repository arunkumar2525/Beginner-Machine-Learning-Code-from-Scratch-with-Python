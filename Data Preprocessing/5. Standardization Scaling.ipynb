{
 "cells": [
  {
   "cell_type": "code",
   "execution_count": null,
   "metadata": {},
   "outputs": [],
   "source": [
    "''' Standardization is a rescaling technique that refers to centering the distribution of the data on\n",
    "    the value 0 and the standard deviation to the value 1.\n",
    "    \n",
    "    Together, the mean and the standard deviation can be used to summarize a normal distribution,\n",
    "    also called the Gaussian distribution or bell curve.\n",
    "    \n",
    "    It requires that the mean and standard deviation of the values for each column be known\n",
    "    prior to scaling.\n",
    "    \n",
    "    mean=sum(values[i])/total(values)\n",
    "    variance=sum(values[i]-mean)**2\n",
    "    standard_deviation=sqrt(variance)\n",
    "    Standardization_scale= (value[i]-mean)/standard_deviation\n",
    "'''"
   ]
  },
  {
   "cell_type": "code",
   "execution_count": 37,
   "metadata": {},
   "outputs": [],
   "source": [
    "# Building load csv file function\n",
    "from csv import reader\n",
    "def load_csv(filename):\n",
    "    dataset=list()\n",
    "    open_file=open(filename,'r')\n",
    "    read_file=reader(open_file)\n",
    "    for row in read_file:\n",
    "        if not row:\n",
    "            continue\n",
    "        dataset.append(row)\n",
    "    return dataset"
   ]
  },
  {
   "cell_type": "code",
   "execution_count": 38,
   "metadata": {},
   "outputs": [],
   "source": [
    "# Building convert string value to float value\n",
    "def convert_str_to_float(dataset,column):\n",
    "    for row in dataset:\n",
    "        row[column]=float(row[column])"
   ]
  },
  {
   "cell_type": "code",
   "execution_count": 39,
   "metadata": {},
   "outputs": [],
   "source": [
    "# Building mean function \n",
    "def data_mean(dataset):\n",
    "    # intializing all column values as 0\n",
    "    mean=[0 for row in range(len(dataset[0]))]\n",
    "    # column count\n",
    "    for i in range(len(dataset[0])):\n",
    "        column_values=[row[i] for row in dataset]\n",
    "        mean[i]=sum(column_values)/float(len(column_values))\n",
    "    return mean            "
   ]
  },
  {
   "cell_type": "code",
   "execution_count": 44,
   "metadata": {},
   "outputs": [],
   "source": [
    "# Building Standard Deviation\n",
    "from math import sqrt\n",
    "def std_deviation(dataset,mean):\n",
    "    std_dev=[0 for row in range(len(dataset[0]))]\n",
    "    for i in range(len(dataset[0])):\n",
    "        variance=[pow(row[i]-mean[i], 2) for row in dataset]\n",
    "        std_dev[i]=sum(variance)\n",
    "    std_dev=[sqrt(value/(float(len(dataset))-1)) for value in std_dev]\n",
    "    return std_dev"
   ]
  },
  {
   "cell_type": "code",
   "execution_count": 45,
   "metadata": {},
   "outputs": [],
   "source": [
    "# Standardization scale\n",
    "def standardization_scale(dataset,mean,std_dev):\n",
    "    for row in dataset:\n",
    "        for i in range(len(row)):\n",
    "            row[i]=(row[i]-mean[i])/std_dev[i]"
   ]
  },
  {
   "cell_type": "code",
   "execution_count": 46,
   "metadata": {},
   "outputs": [
    {
     "name": "stdout",
     "output_type": "stream",
     "text": [
      "['6', '148', '72', '35', '0', '33.6', '0.627', '50', '1']\n",
      "[6.0, 148.0, 72.0, 35.0, 0.0, 33.6, 0.627, 50.0, 1.0]\n",
      "('mean:', [3.8450520833333335, 120.89453125, 69.10546875, 20.536458333333332, 79.79947916666667, 31.992578124999977, 0.4718763020833327, 33.240885416666664, 0.3489583333333333])\n",
      "('standard deviation:', [3.3695780626988623, 31.97261819513622, 19.355807170644777, 15.952217567727677, 115.24400235133837, 7.8841603203754405, 0.33132859501277484, 11.76023154067868, 0.4769513772427971])\n",
      "[0.6395304921176576, 0.8477713205896718, 0.14954329852954296, 0.9066790623472505, -0.692439324724129, 0.2038799072674717, 0.468186870229798, 1.4250667195933604, 1.3650063669598067]\n"
     ]
    }
   ],
   "source": [
    "# Load file\n",
    "filename='pima-indians-diabetes.csv'\n",
    "dataset=load_csv(filename)\n",
    "print(dataset[0])\n",
    "for column in range(len(dataset[0])):\n",
    "    convert_str_to_float(dataset,column)\n",
    "print(dataset[0])\n",
    "mean=data_mean(dataset)\n",
    "print(\"mean:\",mean)\n",
    "std_dev=std_deviation(dataset,mean)\n",
    "print(\"standard deviation:\",std_dev)\n",
    "standardization_scale(dataset,mean,std_dev)\n",
    "print(dataset[0])"
   ]
  },
  {
   "cell_type": "code",
   "execution_count": null,
   "metadata": {},
   "outputs": [],
   "source": []
  }
 ],
 "metadata": {
  "kernelspec": {
   "display_name": "Python 2",
   "language": "python",
   "name": "python2"
  },
  "language_info": {
   "codemirror_mode": {
    "name": "ipython",
    "version": 2
   },
   "file_extension": ".py",
   "mimetype": "text/x-python",
   "name": "python",
   "nbconvert_exporter": "python",
   "pygments_lexer": "ipython2",
   "version": "2.7.16"
  }
 },
 "nbformat": 4,
 "nbformat_minor": 2
}
