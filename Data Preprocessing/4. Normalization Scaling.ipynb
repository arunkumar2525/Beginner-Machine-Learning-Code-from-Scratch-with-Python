{
 "cells": [
  {
   "cell_type": "code",
   "execution_count": null,
   "metadata": {},
   "outputs": [],
   "source": [
    "# we use normalization to refer to rescaling an input variable to the range between 0 and 1.\n",
    "# Normalization requires the minimum and maximum values for each attribute or column\n",
    "# scaled=(value[i]-min)/(max-min)"
   ]
  },
  {
   "cell_type": "code",
   "execution_count": 24,
   "metadata": {},
   "outputs": [],
   "source": [
    "# Building load csv file\n",
    "from csv import reader\n",
    "def load_csv(filename):\n",
    "    dataset=list()\n",
    "    open_file=open(filename,'r')\n",
    "    read_file=reader(open_file)\n",
    "    for row in read_file:\n",
    "        if not row:\n",
    "            continue\n",
    "        dataset.append(row)\n",
    "    return dataset"
   ]
  },
  {
   "cell_type": "code",
   "execution_count": 25,
   "metadata": {},
   "outputs": [],
   "source": [
    "# Building function to convert string to float value\n",
    "def convert_str_to_float(dataset,column):\n",
    "    for row in dataset:\n",
    "        row[column]=float(row[column])"
   ]
  },
  {
   "cell_type": "code",
   "execution_count": 26,
   "metadata": {},
   "outputs": [],
   "source": [
    "# Building function to find min and max values of each attribute\n",
    "def data_minmax(dataset):\n",
    "    minmax=list()\n",
    "    for i in range(len(dataset[0])):\n",
    "        column_values=[row[i] for row in dataset]\n",
    "        column_min=min(column_values)\n",
    "        column_max=max(column_values)\n",
    "        minmax.append([column_min,column_max])\n",
    "    return minmax"
   ]
  },
  {
   "cell_type": "code",
   "execution_count": 33,
   "metadata": {},
   "outputs": [],
   "source": [
    "# Building funtion to normalize dataset\n",
    "def normalize_dataset(dataset,minmax):\n",
    "    for row in dataset:\n",
    "        for i in range(len(row)):\n",
    "            row[i]=(row[i]- minmax[i][0])/(minmax[i][1] - minmax[i][0])"
   ]
  },
  {
   "cell_type": "code",
   "execution_count": 35,
   "metadata": {},
   "outputs": [
    {
     "name": "stdout",
     "output_type": "stream",
     "text": [
      "['6', '148', '72', '35', '0', '33.6', '0.627', '50', '1']\n",
      "[6.0, 148.0, 72.0, 35.0, 0.0, 33.6, 0.627, 50.0, 1.0]\n",
      "[0.35294117647058826, 0.7437185929648241, 0.5901639344262295, 0.35353535353535354, 0.0, 0.5007451564828614, 0.23441502988898377, 0.48333333333333334, 1.0]\n"
     ]
    }
   ],
   "source": [
    "# Load file\n",
    "filename='pima-indians-diabetes.csv'\n",
    "dataset=load_csv(filename)\n",
    "print(dataset[0])\n",
    "for column in range(len(dataset[0])):\n",
    "    convert_str_to_float(dataset,column)\n",
    "print(dataset[0])\n",
    "minmax=data_minmax(dataset)\n",
    "normalize_dataset(dataset,minmax)\n",
    "print(dataset[0])"
   ]
  },
  {
   "cell_type": "code",
   "execution_count": null,
   "metadata": {},
   "outputs": [],
   "source": []
  }
 ],
 "metadata": {
  "kernelspec": {
   "display_name": "Python 2",
   "language": "python",
   "name": "python2"
  },
  "language_info": {
   "codemirror_mode": {
    "name": "ipython",
    "version": 2
   },
   "file_extension": ".py",
   "mimetype": "text/x-python",
   "name": "python",
   "nbconvert_exporter": "python",
   "pygments_lexer": "ipython2",
   "version": "2.7.16"
  }
 },
 "nbformat": 4,
 "nbformat_minor": 2
}
