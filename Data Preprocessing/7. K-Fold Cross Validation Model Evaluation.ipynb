{
 "cells": [
  {
   "cell_type": "code",
   "execution_count": null,
   "metadata": {},
   "outputs": [],
   "source": [
    "# Model Evaluating using K-Fold Cross Validation Technique."
   ]
  },
  {
   "cell_type": "code",
   "execution_count": 3,
   "metadata": {},
   "outputs": [],
   "source": [
    "from random import seed\n",
    "from random import randrange\n",
    "def KFold(dataset,folds=10):\n",
    "    k_values=list()\n",
    "    dataset_copy=list(dataset)\n",
    "    fold_size=int(len(dataset)/folds)\n",
    "    for _ in range(folds):\n",
    "        fold=list()\n",
    "        while len(fold)<fold_size:\n",
    "            index=randrange(len(dataset_copy))\n",
    "            fold.append(dataset_copy.pop(index))\n",
    "        k_values.append(fold)\n",
    "    return k_values"
   ]
  },
  {
   "cell_type": "code",
   "execution_count": 4,
   "metadata": {},
   "outputs": [
    {
     "name": "stdout",
     "output_type": "stream",
     "text": [
      "-----------------k_fold----------------------\n",
      "[[10, 16, 3], [20, 6, 14], [19, 1, 5], [7, 9, 17], [13, 18, 11], [8, 12, 4]]\n"
     ]
    }
   ],
   "source": [
    "# load file\n",
    "dataset=[1,2,3,4,5,6,7,8,9,10,11,12,13,14,15,16,17,18,19,20]\n",
    "folds=6\n",
    "k_fold=KFold(dataset,folds)\n",
    "print(\"-----------------k_fold----------------------\")\n",
    "print(k_fold)"
   ]
  },
  {
   "cell_type": "code",
   "execution_count": null,
   "metadata": {},
   "outputs": [],
   "source": []
  }
 ],
 "metadata": {
  "kernelspec": {
   "display_name": "Python 2",
   "language": "python",
   "name": "python2"
  },
  "language_info": {
   "codemirror_mode": {
    "name": "ipython",
    "version": 2
   },
   "file_extension": ".py",
   "mimetype": "text/x-python",
   "name": "python",
   "nbconvert_exporter": "python",
   "pygments_lexer": "ipython2",
   "version": "2.7.16"
  }
 },
 "nbformat": 4,
 "nbformat_minor": 2
}
