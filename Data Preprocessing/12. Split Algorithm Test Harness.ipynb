{
 "cells": [
  {
   "cell_type": "code",
   "execution_count": null,
   "metadata": {},
   "outputs": [],
   "source": [
    "'''We dont no which algorithm give best for a given problem. We need to design test harness that we can\n",
    "   use to evaluate different machine learning algorithms.\n",
    "   \n",
    "   train and test split is a simple resampling method that can be used to evaluate a machine learning\n",
    "   '''"
   ]
  },
  {
   "cell_type": "code",
   "execution_count": null,
   "metadata": {},
   "outputs": [],
   "source": [
    "# Train and test algorithm test harness\n",
    "def evaluate_algorithm(dataset,algorithm,split=0.60,*args):\n",
    "    predictions=[]\n",
    "    train,test=train_test_split(dataset,split)\n",
    "    test_set=[]\n",
    "    for row in test:\n",
    "        row_copy=list(row)\n",
    "        row_copy[-1]=None\n",
    "        test_set.append(row_copy)\n",
    "    predict=algorithm(train,test_set,*args)\n",
    "    actual=[row[-1] for row in test]\n",
    "    accuracy=accuracy_metrics(actual,predict)\n",
    "    predictions.append(accuracy)\n",
    "    return predictions"
   ]
  }
 ],
 "metadata": {
  "kernelspec": {
   "display_name": "Python 2",
   "language": "python",
   "name": "python2"
  },
  "language_info": {
   "codemirror_mode": {
    "name": "ipython",
    "version": 2
   },
   "file_extension": ".py",
   "mimetype": "text/x-python",
   "name": "python",
   "nbconvert_exporter": "python",
   "pygments_lexer": "ipython2",
   "version": "2.7.16"
  }
 },
 "nbformat": 4,
 "nbformat_minor": 2
}
