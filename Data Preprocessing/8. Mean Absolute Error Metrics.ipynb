{
 "cells": [
  {
   "cell_type": "code",
   "execution_count": null,
   "metadata": {},
   "outputs": [],
   "source": [
    "# Mean square error metrics is used for Regression Algorithms\n",
    "# mean square error=sum(absolute error(predicted[i]-actual[i]))/total predictions"
   ]
  },
  {
   "cell_type": "code",
   "execution_count": 1,
   "metadata": {},
   "outputs": [],
   "source": [
    "# Building mean absolute error\n",
    "# abs() - absolute error inbuild python funtion\n",
    "def mean_absolute_error_metrics(actual,predicted):\n",
    "    error=0\n",
    "    for i in range(len(actual)):\n",
    "        error+=abs(predicted[i]-actual[i])\n",
    "    return error/float(len(actual))"
   ]
  },
  {
   "cell_type": "code",
   "execution_count": 3,
   "metadata": {},
   "outputs": [
    {
     "name": "stdout",
     "output_type": "stream",
     "text": [
      "--------------------mean absolute error-------------------\n",
      "0.0722222222222\n"
     ]
    }
   ],
   "source": [
    "# load data\n",
    "actual=[0.1,0.2,0.3,0.4,0.5,0.6,0.7,0.8,0.9]\n",
    "predicted=[0.11,0.19,0.39,0.49,0.59,0.69,0.79,0.89,0.99]\n",
    "error=mean_absolute_error_metrics(actual,predicted)\n",
    "print(\"--------------------mean absolute error-------------------\")\n",
    "print(error)"
   ]
  },
  {
   "cell_type": "code",
   "execution_count": null,
   "metadata": {},
   "outputs": [],
   "source": []
  }
 ],
 "metadata": {
  "kernelspec": {
   "display_name": "Python 2",
   "language": "python",
   "name": "python2"
  },
  "language_info": {
   "codemirror_mode": {
    "name": "ipython",
    "version": 2
   },
   "file_extension": ".py",
   "mimetype": "text/x-python",
   "name": "python",
   "nbconvert_exporter": "python",
   "pygments_lexer": "ipython2",
   "version": "2.7.16"
  }
 },
 "nbformat": 4,
 "nbformat_minor": 2
}
