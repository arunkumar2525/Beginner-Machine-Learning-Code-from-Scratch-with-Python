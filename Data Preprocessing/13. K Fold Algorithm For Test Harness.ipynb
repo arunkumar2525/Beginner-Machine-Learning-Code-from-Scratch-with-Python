{
 "cells": [
  {
   "cell_type": "code",
   "execution_count": null,
   "metadata": {},
   "outputs": [],
   "source": [
    "# cross validation is a resmapling technique that provides more reilable estimates of algorithm \n",
    "# Perform for unseen data\n"
   ]
  },
  {
   "cell_type": "code",
   "execution_count": null,
   "metadata": {},
   "outputs": [],
   "source": [
    "# KFold Cross validation Algorithm Test Harness\n",
    "def evaluate_algorithm(dataset,algorithm,n_splits=10,*args):\n",
    "    predictions=[]\n",
    "    kfolds=KFold(dataset,n_splits)\n",
    "    train_set=[]\n",
    "    for fold in kfolds:\n",
    "        train_set=list(kfolds)\n",
    "        train_set.remove(fold)\n",
    "        train_set=sum(train_set,[])\n",
    "        test_set=[]\n",
    "        for row in fold:\n",
    "            row_copy=list(row)\n",
    "            row_copy[-1]=None\n",
    "            test_set.append(row_copy)\n",
    "        predict=algorithm(train_set,test_set,*args)\n",
    "        actual=[row[-1] for row in fold]\n",
    "        accuracy=accuracy_matrix(actual,predict)\n",
    "        predictions.append(accuracy)\n",
    "    return predictions"
   ]
  }
 ],
 "metadata": {
  "kernelspec": {
   "display_name": "Python 2",
   "language": "python",
   "name": "python2"
  },
  "language_info": {
   "codemirror_mode": {
    "name": "ipython",
    "version": 2
   },
   "file_extension": ".py",
   "mimetype": "text/x-python",
   "name": "python",
   "nbconvert_exporter": "python",
   "pygments_lexer": "ipython2",
   "version": "2.7.16"
  }
 },
 "nbformat": 4,
 "nbformat_minor": 2
}
