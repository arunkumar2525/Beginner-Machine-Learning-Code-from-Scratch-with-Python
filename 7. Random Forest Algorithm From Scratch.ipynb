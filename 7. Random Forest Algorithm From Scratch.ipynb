{
 "cells": [
  {
   "cell_type": "code",
   "execution_count": null,
   "metadata": {},
   "outputs": [],
   "source": [
    "# Random forest classification algorithm from scratch using solar dataset"
   ]
  },
  {
   "cell_type": "code",
   "execution_count": 39,
   "metadata": {},
   "outputs": [],
   "source": [
    "# Load csv file \n",
    "from csv import reader\n",
    "def load_csv(filename):\n",
    "    dataset=list()\n",
    "    open_file=open(filename,'r')\n",
    "    read_file=reader(open_file)\n",
    "    for row in read_file:\n",
    "        if not row:\n",
    "            continue\n",
    "        dataset.append(row)\n",
    "    return dataset"
   ]
  },
  {
   "cell_type": "code",
   "execution_count": 40,
   "metadata": {},
   "outputs": [],
   "source": [
    "# Convert string values to float values\n",
    "def convert_str_to_float(dataset,column):\n",
    "    for row in dataset:\n",
    "        for i in range(len(row)):\n",
    "            row[column]=float(row[column])"
   ]
  },
  {
   "cell_type": "code",
   "execution_count": 41,
   "metadata": {},
   "outputs": [],
   "source": [
    "# Converting String value to integer value\n",
    "def convert_str_to_int(dataset,column):\n",
    "    class_values=[row[column] for row in dataset]\n",
    "    unique=set(class_values)\n",
    "    lookup=dict()\n",
    "    for i,value in enumerate(unique):\n",
    "        lookup[value]=i\n",
    "    for row in dataset:\n",
    "        row[column]=lookup[row[column]]\n",
    "    return lookup"
   ]
  },
  {
   "cell_type": "code",
   "execution_count": 42,
   "metadata": {},
   "outputs": [],
   "source": [
    "# Calculate minmax values for each column\n",
    "def minmax(dataset):\n",
    "    minmax=list()\n",
    "    for i in range(len(dataset[0])):\n",
    "        column_values=[row[i] for row in dataset]\n",
    "        min_value=min(column_values)\n",
    "        max_value=max(column_values)\n",
    "        minmax.append([min_value,max_value])\n",
    "    return minmax"
   ]
  },
  {
   "cell_type": "code",
   "execution_count": 43,
   "metadata": {},
   "outputs": [],
   "source": [
    "# Apply normalize scale to dataset\n",
    "def normalize_scale(dataset,minmax):\n",
    "    for row in dataset:\n",
    "        for i in range(len(row)):\n",
    "            row[i]=(row[i]-minmax[i[0]])/(minmax[i][1]-minmax[i][0])"
   ]
  },
  {
   "cell_type": "code",
   "execution_count": 44,
   "metadata": {},
   "outputs": [],
   "source": [
    "# Accuracy of a metrics\n",
    "def classification_accuracy(actual,predicted):\n",
    "    correct=0\n",
    "    for i in range(len(actual)):\n",
    "        if actual[i]==predicted[i]:\n",
    "            correct+=1\n",
    "    return correct/float(len(actual))*100.0"
   ]
  },
  {
   "cell_type": "code",
   "execution_count": 45,
   "metadata": {},
   "outputs": [],
   "source": [
    "# Split dataset by kfold crossvalidation technique\n",
    "from random import randrange\n",
    "def KFold(dataset,folds):\n",
    "    fold_value=list()\n",
    "    dataset_copy=list(dataset)\n",
    "    fold_size=int(len(dataset)/folds)\n",
    "    for _ in range(folds):\n",
    "        fold=list()\n",
    "        while len(fold)<fold_size:\n",
    "            index=randrange(len(dataset_copy))\n",
    "            fold.append(dataset_copy.pop(index))\n",
    "        fold_value.append(fold)\n",
    "    return fold_value"
   ]
  },
  {
   "cell_type": "code",
   "execution_count": 46,
   "metadata": {},
   "outputs": [],
   "source": [
    "# Evaluate Accuracy of model\n",
    "def evaluate_model(dataset,algorithm,folds,*args):\n",
    "    folds=KFold(dataset,folds)\n",
    "    predictions=list()\n",
    "    for fold in folds:\n",
    "        train_set=list(folds)\n",
    "        train_set.remove(fold)\n",
    "        train_set=sum(train_set,[])\n",
    "        test_set=list()\n",
    "        for row in fold:\n",
    "            row_copy=list(row)\n",
    "            row_copy[-1]=None\n",
    "            test_set.append(row_copy)\n",
    "        predicted=algorithm(train_set,test_set,*args)\n",
    "        actual=[row[-1] for row in fold]\n",
    "        accuracy=classification_accuracy(actual,predicted)\n",
    "        predictions.append(accuracy)\n",
    "    return predictions"
   ]
  },
  {
   "cell_type": "code",
   "execution_count": 58,
   "metadata": {},
   "outputs": [],
   "source": [
    "# Random Forest Algorithm \n",
    "def random_forest_algorithm(train,test,max_depth,min_size,sample_size,n_tree,n_features):\n",
    "    trees=list()\n",
    "    for _ in range(n_tree):\n",
    "        # create a random subsample from the dataset with replacement\n",
    "        sample=subsample(train,sample_size)\n",
    "       # print(\"sample\",sample)\n",
    "        # Build a decision tree\n",
    "        tree=build_tree(sample,max_depth,min_size,n_features)\n",
    "        trees.append(tree)\n",
    "    predictions=[bagging_predict(trees,row) for row in test]\n",
    "    return predictions"
   ]
  },
  {
   "cell_type": "code",
   "execution_count": 59,
   "metadata": {},
   "outputs": [],
   "source": [
    "# Create a random subsample from the dataset with replacement\n",
    "def subsample(dataset,sample_size):\n",
    "    sample=list()\n",
    "    n_sample=round(len(dataset)*sample_size)\n",
    "    #print(\"n_sample\",n_sample)\n",
    "    while len(sample)<n_sample:\n",
    "        index=randrange(len(dataset))\n",
    "        sample.append(dataset[index])\n",
    "    return sample"
   ]
  },
  {
   "cell_type": "code",
   "execution_count": 60,
   "metadata": {},
   "outputs": [],
   "source": [
    "# Build a decision tree\n",
    "def build_tree(sample,max_depth,min_size,n_features):\n",
    "    # Building Root of a decision tree\n",
    "    root=root_split(sample,n_features)\n",
    "   # print(\"root\",root)\n",
    "    # Create child splits for a node or make terminal\n",
    "    split(root,max_depth,min_size,n_features,1)\n",
    "    return root"
   ]
  },
  {
   "cell_type": "code",
   "execution_count": 61,
   "metadata": {},
   "outputs": [],
   "source": [
    "# Building root of decision tree\n",
    "def root_split(sample,n_features):\n",
    "    # Getting class values \n",
    "    class_value=list(set(row[-1] for row in dataset))\n",
    "   # print(\"class_value\",class_value)\n",
    "    # Default value setting\n",
    "    b_index,b_value,b_score,b_groups=999,999,999,None\n",
    "    features=list()\n",
    "    while len(features)<n_features:\n",
    "        index=randrange(len(dataset[0])-1)\n",
    "     #   print(\"index\",index)\n",
    "        if index not in features:\n",
    "            features.append(index)\n",
    "       #     print(\"features.append(index)\",features.append(index))\n",
    "    for index in features:\n",
    "        for row in dataset:\n",
    "            # Split Dataset based on attribute value\n",
    "            groups=test_split(index,row[index],dataset)\n",
    "            # Calculate gini index for a split dataset.\n",
    "            gini=gini_index(groups,class_value)\n",
    "            if gini<b_score:\n",
    "                b_index,b_value,b_score,b_groups=index,row[index],gini,groups\n",
    "    return {'index':b_index,'value':b_value,'groups':b_groups}"
   ]
  },
  {
   "cell_type": "code",
   "execution_count": 62,
   "metadata": {},
   "outputs": [],
   "source": [
    "# Split dataset based on attribute value\n",
    "# row[index]=value\n",
    "def test_split(index,value,dataset):\n",
    "    left,right=list(),list()\n",
    "    for row in dataset:\n",
    "        if row[index]<value:\n",
    "            left.append(row)\n",
    "        else:\n",
    "            right.append(row)\n",
    "    return left,right"
   ]
  },
  {
   "cell_type": "code",
   "execution_count": 63,
   "metadata": {},
   "outputs": [],
   "source": [
    "# Calculate gini index for a split dataset\n",
    "def gini_index(groups,classes):\n",
    "    n_instance=float(sum([len(group) for group in groups]))\n",
    "   # print(\"n_instance\",n_instance)\n",
    "    gini=0.0\n",
    "    for group in groups:\n",
    "        size=float(len(group))\n",
    "       # print(\"size\",size)\n",
    "        if size==0:\n",
    "            continue\n",
    "        score=0.0\n",
    "        for class_val in classes:\n",
    "            p=[row[-1] for row in group].count(class_val)/size\n",
    "            score+=p*p\n",
    "        gini+=(1.0-score)*(size/n_instance)\n",
    "   # print(\"gini\",gini)\n",
    "    return gini"
   ]
  },
  {
   "cell_type": "code",
   "execution_count": 64,
   "metadata": {},
   "outputs": [],
   "source": [
    "# Create child splits for a node or make terminal\n",
    "def split(root,max_depth,min_size,n_features,depth):\n",
    "    left,right=root['groups']\n",
    "    del(root['groups'])\n",
    "    # Check for a no split\n",
    "    if not left or not right:\n",
    "        root['left']=root['right']=to_terminal(left+right)\n",
    "       # print(\"to_terminal(left+right)\",to_terminal(left+right))\n",
    "       # print(\"root['left']\",root['left'])\n",
    "       # print(\"root['right']\",root['right'])\n",
    "        return\n",
    "    # check max depth\n",
    "    if depth>=max_depth:\n",
    "        root['left'],root['right']=to_terminal(left),to_terminal(right)\n",
    "      #  print(\"check max depth root['left']\",root['left'])\n",
    "       # print(\"check max depth root['right']\",root['right'])\n",
    "        return\n",
    "    # process left child\n",
    "    if len(left)<=min_size:\n",
    "        root['left']=to_terminal(left)\n",
    "       # print(\"process left child root['left']\",root['left'])\n",
    "    else:\n",
    "        root['left']=root_split(left,n_features)\n",
    "        split(root['left'],max_depth,min_size,n_features,depth+1)\n",
    "    # process right child\n",
    "    if len(right)<=min_size:\n",
    "        root['right']=to_terminal(right)\n",
    "       # print(\"process left child root['right']\",root['right'])\n",
    "    else:\n",
    "        root['right']=root_split(right,n_features)\n",
    "        split(root['right'],max_depth,min_size,n_features,depth+1)"
   ]
  },
  {
   "cell_type": "code",
   "execution_count": 65,
   "metadata": {},
   "outputs": [],
   "source": [
    "# Create a terminal node value\n",
    "def to_terminal(group):\n",
    "    outcomes=[row[-1] for row in group]\n",
    "   # print(\"outcomes\",outcomes)\n",
    "   # print(\"max(set(outcomes),key=outcomes.count)\",max(set(outcomes),key=outcomes.count))\n",
    "    return max(set(outcomes),key=outcomes.count)"
   ]
  },
  {
   "cell_type": "code",
   "execution_count": 66,
   "metadata": {},
   "outputs": [],
   "source": [
    "# Make a prediction with a list of bagged trees\n",
    "def bagging_predict(trees,row):\n",
    "    # Make predict a decision tress\n",
    "    predictions=[predict(tree,row) for tree in trees]\n",
    "   # print(\"predictions\",predictions)\n",
    "   # print(\"max(set(predictions),key=predictions.count)\",max(set(predictions),key=predictions.count))\n",
    "    return max(set(predictions),key=predictions.count)"
   ]
  },
  {
   "cell_type": "code",
   "execution_count": 67,
   "metadata": {},
   "outputs": [],
   "source": [
    "# make predict a decision tree\n",
    "def  predict(node,row):\n",
    "    if row[node['index']]<node['value']:\n",
    "       # print(\"row[node['index']]<node['value']\",row[node['index']]<node['value'])\n",
    "        if isinstance(node['left'],dict):\n",
    "         #   print(\"predict(node['left'],row)\",predict(node['left'],row))\n",
    "            return predict(node['left'],row)\n",
    "        else:\n",
    "          #  print(\"node['left']\",node['left'])\n",
    "            return node['left']\n",
    "    else:\n",
    "        if isinstance(node['right'],dict):\n",
    "           # print(\"predict(node['right'],row)\",predict(node['right'],row))\n",
    "            return predict(node['right'],row)\n",
    "        else:\n",
    "          #  print(\"node['right']\",node['right'])\n",
    "            return node['right']"
   ]
  },
  {
   "cell_type": "code",
   "execution_count": 69,
   "metadata": {},
   "outputs": [
    {
     "name": "stdout",
     "output_type": "stream",
     "text": [
      "('n_tree', 1)\n",
      "('accuracy', [73.17073170731707, 75.60975609756098, 73.17073170731707, 85.36585365853658, 70.73170731707317])\n",
      "('mean accuracy', 75.60975609756098)\n",
      "('n_tree', 5)\n",
      "('accuracy', [82.92682926829268, 70.73170731707317, 78.04878048780488, 80.48780487804879, 78.04878048780488])\n",
      "('mean accuracy', 78.04878048780488)\n",
      "('n_tree', 10)\n",
      "('accuracy', [73.17073170731707, 82.92682926829268, 75.60975609756098, 92.6829268292683, 85.36585365853658])\n",
      "('mean accuracy', 81.95121951219512)\n"
     ]
    }
   ],
   "source": [
    "# test the random forest algorithm on sonar dataset\n",
    "from random import seed\n",
    "from math import sqrt\n",
    "seed(1)\n",
    "# load and prepare file\n",
    "filename='sonar.all-data.csv'\n",
    "dataset=load_csv(filename)\n",
    "for i in range(0,len(dataset[0])-1):\n",
    "    convert_str_to_float(dataset,i)\n",
    "convert_str_to_int(dataset,len(dataset[0])-1)\n",
    "folds=5\n",
    "max_depth=10\n",
    "min_size=1\n",
    "sample_size=1.0\n",
    "n_features=int(sqrt(len(dataset[0])-1))\n",
    "for n_trees in [1,5,10]:\n",
    "    accuracy=evaluate_model(dataset,random_forest_algorithm,folds,max_depth,min_size,sample_size,n_trees,n_features)\n",
    "    print(\"n_tree\",n_trees)\n",
    "    print(\"accuracy\",accuracy)\n",
    "    print(\"mean accuracy\",sum(accuracy)/float(len(accuracy)))"
   ]
  },
  {
   "cell_type": "code",
   "execution_count": null,
   "metadata": {},
   "outputs": [],
   "source": []
  }
 ],
 "metadata": {
  "kernelspec": {
   "display_name": "Python 2",
   "language": "python",
   "name": "python2"
  },
  "language_info": {
   "codemirror_mode": {
    "name": "ipython",
    "version": 2
   },
   "file_extension": ".py",
   "mimetype": "text/x-python",
   "name": "python",
   "nbconvert_exporter": "python",
   "pygments_lexer": "ipython2",
   "version": "2.7.16"
  }
 },
 "nbformat": 4,
 "nbformat_minor": 2
}
