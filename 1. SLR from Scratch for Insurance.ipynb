{
 "cells": [
  {
   "cell_type": "markdown",
   "metadata": {},
   "source": [
    "Swedish Auto insurance Case Study.\n",
    "We need Predict for newly added customer."
   ]
  },
  {
   "cell_type": "code",
   "execution_count": 1,
   "metadata": {},
   "outputs": [],
   "source": [
    "# Building Load csv file\n",
    "from csv import reader\n",
    "def load_csv(filename):\n",
    "    dataset=list()\n",
    "    open_file=open(filename,'r')\n",
    "    read_file=reader(open_file)\n",
    "    for row in read_file:\n",
    "        if not row:\n",
    "            continue\n",
    "        dataset.append(row)\n",
    "    return dataset"
   ]
  },
  {
   "cell_type": "code",
   "execution_count": 2,
   "metadata": {},
   "outputs": [],
   "source": [
    "# Building Convert string value to Float value\n",
    "def convert_str_to_float(dataset,column):\n",
    "    for row in dataset:\n",
    "        row[column]=float(row[column])"
   ]
  },
  {
   "cell_type": "code",
   "execution_count": 3,
   "metadata": {},
   "outputs": [],
   "source": [
    "# Evaluate Model using test train set\n",
    "from random import randrange\n",
    "from random import seed\n",
    "def train_test_split(dataset,split=0.80):\n",
    "    train_set=list()\n",
    "    dataset_copy=list(dataset)\n",
    "    train_size=int(split*len(dataset))\n",
    "    while len(train_set)<train_size:\n",
    "        index=randrange(len(dataset_copy))\n",
    "        train_set.append(dataset_copy.pop(index))\n",
    "    return train_set,dataset_copy"
   ]
  },
  {
   "cell_type": "code",
   "execution_count": 4,
   "metadata": {},
   "outputs": [],
   "source": [
    "# Evalute Model Metrics\n",
    "from math import sqrt\n",
    "def root_mean_square_error(actual,predicted):\n",
    "    sum_error=0.0\n",
    "    for i in range(len(actual)):\n",
    "        yhat=predicted[i]-actual[i]\n",
    "        sum_error+=(yhat**2)\n",
    "        rmse=sum_error/float(len(actual))\n",
    "    return sqrt(rmse)"
   ]
  },
  {
   "cell_type": "code",
   "execution_count": 5,
   "metadata": {},
   "outputs": [],
   "source": [
    "# Evaluate model accuracy (Test Harness)\n",
    "def evalute_model(dataset,algorithm,split=0.80,*args):\n",
    "    train,test=train_test_split(dataset,split)\n",
    "    test_set=list()\n",
    "    for row in test:\n",
    "        row_copy=list(row)\n",
    "        row_copy[-1]=None\n",
    "        test_set.append(row_copy)\n",
    "    predicted=algorithm(train,test_set,*args)\n",
    "    actual=[row[-1] for row in test]\n",
    "    accuracy=root_mean_square_error(actual,predicted)\n",
    "    return accuracy"
   ]
  },
  {
   "cell_type": "code",
   "execution_count": 6,
   "metadata": {},
   "outputs": [],
   "source": [
    "# Statistical mean\n",
    "def mean(value):\n",
    "    return sum(value)/float(len(value))"
   ]
  },
  {
   "cell_type": "code",
   "execution_count": 9,
   "metadata": {},
   "outputs": [],
   "source": [
    "# Statistical varaince\n",
    "def variance(value,mean):\n",
    "    vari=sum([(value[i]-mean)**2 for i in range(len(value))])\n",
    "    return vari"
   ]
  },
  {
   "cell_type": "code",
   "execution_count": 10,
   "metadata": {},
   "outputs": [],
   "source": [
    "# Statistical covariance\n",
    "def covariance(x,y,mean_x,mean_y):\n",
    "    covar=0.0\n",
    "    for i in range(len(x)):\n",
    "        covar+=(x[i]-mean_x)*(y[i]-mean_y)\n",
    "    return covar"
   ]
  },
  {
   "cell_type": "code",
   "execution_count": 11,
   "metadata": {},
   "outputs": [],
   "source": [
    "# Coefficients for linear regression b0,b1\n",
    "def coefficient(dataset):\n",
    "    x=[row[0] for row in dataset]\n",
    "    y=[row[1] for row in dataset]\n",
    "    mean_x,mean_y=mean(x),mean(y)\n",
    "    b1=covariance(x,y,mean_x,mean_y)/variance(x,mean_x)\n",
    "    b0=mean_y-b1*mean_x\n",
    "    return[b0,b1]"
   ]
  },
  {
   "cell_type": "code",
   "execution_count": 12,
   "metadata": {},
   "outputs": [],
   "source": [
    "# Simple linear regression algorithm\n",
    "def simple_linear_regression(train,test):\n",
    "    predictions=list()\n",
    "    b0,b1=coefficient(train)\n",
    "    for row in test:\n",
    "        yhat=b0+b1*row[0]\n",
    "        predictions.append(yhat)\n",
    "    return predictions"
   ]
  },
  {
   "cell_type": "code",
   "execution_count": 13,
   "metadata": {},
   "outputs": [
    {
     "name": "stdout",
     "output_type": "stream",
     "text": [
      "-----------------------accuracy of a model----------------------\n",
      "('Root Mean Square Error :', 34.80925723134309)\n"
     ]
    }
   ],
   "source": [
    "# Simple linear regression algorithm for insurance dataset\n",
    "seed(1)\n",
    "filename='insurance.csv'\n",
    "dataset=load_csv(filename)\n",
    "for column in range(len(dataset[0])):\n",
    "    convert_str_to_float(dataset,column)\n",
    "accuracy_model=evalute_model(dataset,simple_linear_regression,split=0.8)\n",
    "print(\"-----------------------accuracy of a model----------------------\")\n",
    "print(\"Root Mean Square Error :\",accuracy_model)"
   ]
  },
  {
   "cell_type": "markdown",
   "metadata": {},
   "source": [
    "Simple linear regression algorithm, its not extracting the strong insights from dataset.Guys please analyze the python coding from scratch of each block. It will be helpful to understand each block working logic."
   ]
  }
 ],
 "metadata": {
  "kernelspec": {
   "display_name": "Python 3",
   "language": "python",
   "name": "python3"
  },
  "language_info": {
   "codemirror_mode": {
    "name": "ipython",
    "version": 3
   },
   "file_extension": ".py",
   "mimetype": "text/x-python",
   "name": "python",
   "nbconvert_exporter": "python",
   "pygments_lexer": "ipython3",
   "version": "3.7.4"
  }
 },
 "nbformat": 4,
 "nbformat_minor": 2
}
