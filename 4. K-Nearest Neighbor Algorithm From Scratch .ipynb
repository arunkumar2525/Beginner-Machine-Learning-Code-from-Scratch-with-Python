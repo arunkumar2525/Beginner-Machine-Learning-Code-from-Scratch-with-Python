{
 "cells": [
  {
   "cell_type": "code",
   "execution_count": null,
   "metadata": {},
   "outputs": [],
   "source": [
    "# K Nearest Neighbor Classification Algorithm from Scratch using Abalone case study"
   ]
  },
  {
   "cell_type": "code",
   "execution_count": 1,
   "metadata": {},
   "outputs": [],
   "source": [
    "# load csv file\n",
    "from csv import reader\n",
    "def load_csv(filename):\n",
    "    dataset=list()\n",
    "    open_file=open(filename)\n",
    "    read_file=reader(open_file)\n",
    "    for row in read_file:\n",
    "        if not row:\n",
    "            continue\n",
    "        dataset.append(row)\n",
    "    return dataset"
   ]
  },
  {
   "cell_type": "code",
   "execution_count": 2,
   "metadata": {},
   "outputs": [],
   "source": [
    "# Converting String column values to float values\n",
    "def convert_str_to_float(dataset,column):\n",
    "    for row in dataset:\n",
    "        row[column]=float(row[column])"
   ]
  },
  {
   "cell_type": "code",
   "execution_count": 3,
   "metadata": {},
   "outputs": [],
   "source": [
    "# Convert categorical value into string integer value\n",
    "def convert_str_to_int(dataset,column):\n",
    "    class_value=[row[column] for row in dataset]\n",
    "    unique=set(class_value)\n",
    "    unique_value=dict()\n",
    "    for i,value in enumerate(unique):\n",
    "        unique_value[value]=i\n",
    "    for row in dataset:\n",
    "        row[column]=unique_value[row[column]]\n",
    "    return unique_value"
   ]
  },
  {
   "cell_type": "code",
   "execution_count": 4,
   "metadata": {},
   "outputs": [],
   "source": [
    "# Calculating min and max for each column\n",
    "def value_minmax(dataset):\n",
    "    minmax=list()\n",
    "    for i in range(len(dataset[0])):\n",
    "        column_values=[row[i] for row in dataset]\n",
    "        min_value=min(column_values)\n",
    "        max_value=max(column_values)\n",
    "        minmax.append([min_value,max_value])\n",
    "    return minmax"
   ]
  },
  {
   "cell_type": "code",
   "execution_count": 5,
   "metadata": {},
   "outputs": [],
   "source": [
    "# Calculate Normalize Scale for each value\n",
    "def normalize_scale(dataset,minmax):\n",
    "    for row in dataset:\n",
    "        for i in range(len(row)):\n",
    "            row[i]=(row[i]-minmax[i][0])/(minmax[i][1]-minmax[i][0])"
   ]
  },
  {
   "cell_type": "code",
   "execution_count": 6,
   "metadata": {},
   "outputs": [],
   "source": [
    "# Evaluate model accuracy by split dataset into kfold cross validation\n",
    "from random import randrange\n",
    "def KFold(dataset,folds):\n",
    "    fold_values=list()\n",
    "    dataset_copy=list(dataset)\n",
    "    fold_size=int(len(dataset)/folds)\n",
    "    for _ in range(folds):\n",
    "        fold=list()\n",
    "        while len(fold)<folds:\n",
    "            index=randrange(len(dataset_copy))\n",
    "            fold.append(dataset_copy.pop(index))\n",
    "        fold_values.append(fold)\n",
    "    return fold_values"
   ]
  },
  {
   "cell_type": "code",
   "execution_count": 7,
   "metadata": {},
   "outputs": [],
   "source": [
    "# Evaluate accuracy of model by using accuracy metrics\n",
    "def classification_accuracy(actual,predicted):\n",
    "    correct=0\n",
    "    for i in range(len(actual)):\n",
    "        if actual[i]==predicted[i]:\n",
    "            correct+=1\n",
    "    return correct/float(len(actual))*100.0"
   ]
  },
  {
   "cell_type": "code",
   "execution_count": 8,
   "metadata": {},
   "outputs": [],
   "source": [
    "# Evaluate accuray of model by using evaluate technique\n",
    "def evaluate_model(dataset,algorithm,folds,*args):\n",
    "    folds=KFold(dataset,folds)\n",
    "    predictions=list()\n",
    "    for fold in folds:\n",
    "        train_set=list(folds)\n",
    "        train_set.remove(fold)\n",
    "        train_set=sum(train_set,[])\n",
    "        test_set=list()\n",
    "        for row in fold:\n",
    "            row_copy=list(row)\n",
    "            row_copy[-1]=None\n",
    "            test_set.append(row_copy)\n",
    "        predicted=algorithm(train_set,test_set,*args)\n",
    "        actual=[row[-1] for row in fold]\n",
    "        accuracy=classification_accuracy(actual,predicted)\n",
    "        predictions.append(accuracy)\n",
    "    return predictions"
   ]
  },
  {
   "cell_type": "code",
   "execution_count": 9,
   "metadata": {},
   "outputs": [],
   "source": [
    "# Building K-Nearest Neigbhor classification algorithm for Abalone case study\n",
    "def k_nearest_neighbor(train,test,neighbors):\n",
    "    predictions=list()\n",
    "    for row in test:\n",
    "       # print(\"row\",row)\n",
    "        predict=predicted_classification(train,row,neighbors)\n",
    "       # print(\"predict\",predict)\n",
    "        predictions.append(predict)\n",
    "       # print(predictions)\n",
    "    return predictions"
   ]
  },
  {
   "cell_type": "code",
   "execution_count": 10,
   "metadata": {},
   "outputs": [],
   "source": [
    "# Making predictions with neighbors\n",
    "def predicted_classification(train,test_row,neighbors):\n",
    "    # locate most similar neighbors\n",
    "    neighbors=get_neighbors(train,test_row,neighbors)\n",
    "   # print(\"neighbors\",neighbors)\n",
    "    output_values=[row[-1] for row in neighbors]\n",
    "   # print(\"output_values\",output_values)\n",
    "    predictions=max(set(output_values),key=output_values.count)\n",
    "   # print(\"predictions\",predictions)\n",
    "    return predictions"
   ]
  },
  {
   "cell_type": "code",
   "execution_count": 11,
   "metadata": {},
   "outputs": [],
   "source": [
    "# Locate most similar neighbors\n",
    "def get_neighbors(train,test_row,neighbors):\n",
    "    distance=list()\n",
    "    for train_row in train:\n",
    "    #    print(\"train_row\",train_row)\n",
    "        # Calculating euclidean distance for 2 vectors\n",
    "        dist=euclidean_distance(test_row,train_row)\n",
    "     #   print(\"dist\",dist)\n",
    "        # Storing each row distance and row value in distance list variable\n",
    "        distance.append((train_row,dist))\n",
    "    #    print(\"distance\",distance)\n",
    "    # Sort distance list as a tuple\n",
    "    distance.sort(key=lambda tup : tup[1])\n",
    "    no_neighbors=list()\n",
    "    for i in range(neighbors):\n",
    "     #   print(\"i\",i)\n",
    "        no_neighbors.append(distance[i][0])\n",
    "     #   print(\"no_neighbors\",no_neighbors)\n",
    "    return no_neighbors"
   ]
  },
  {
   "cell_type": "code",
   "execution_count": 12,
   "metadata": {},
   "outputs": [],
   "source": [
    "# Calculating euclidean distance for 2 vectors\n",
    "from math import sqrt\n",
    "def euclidean_distance(train_row,test_row):\n",
    "    distance=0.0\n",
    "    for i in range(len(train_row)-1):\n",
    "      #  print(\"i\",i)\n",
    "     #   print(\"range(len(train_row)-1)\",range(len(train_row)-1))\n",
    "        distance+=(train_row[i]-test_row[i])**2\n",
    "     #   print(\"euclidean_distance\",distance)\n",
    "    return sqrt(distance)"
   ]
  },
  {
   "cell_type": "code",
   "execution_count": 13,
   "metadata": {},
   "outputs": [
    {
     "name": "stdout",
     "output_type": "stream",
     "text": [
      "('accuracy', [20.0, 40.0, 20.0, 20.0, 20.0])\n"
     ]
    }
   ],
   "source": [
    "# K Nearest Neighbor algorithm\n",
    "from random import seed\n",
    "seed(1)\n",
    "filename='abalone.csv'\n",
    "dataset=load_csv(filename)\n",
    "convert_str_to_int(dataset,0)\n",
    "for i in range(len(dataset[0])):\n",
    "    convert_str_to_float(dataset,i)\n",
    "minmax=value_minmax(dataset)\n",
    "normalize_scale(dataset,minmax)\n",
    "folds=5\n",
    "neighbors=5\n",
    "accuracy=evaluate_model(dataset,k_nearest_neighbor,folds,neighbors)\n",
    "print(\"accuracy\",accuracy)"
   ]
  },
  {
   "cell_type": "code",
   "execution_count": 14,
   "metadata": {},
   "outputs": [
    {
     "name": "stdout",
     "output_type": "stream",
     "text": [
      "('mean accuracy', 24.0)\n"
     ]
    }
   ],
   "source": [
    "#mean accuracy\n",
    "print(\"mean accuracy\",sum(accuracy)/float(len(accuracy)))"
   ]
  },
  {
   "cell_type": "code",
   "execution_count": null,
   "metadata": {},
   "outputs": [],
   "source": []
  }
 ],
 "metadata": {
  "kernelspec": {
   "display_name": "Python 2",
   "language": "python",
   "name": "python2"
  },
  "language_info": {
   "codemirror_mode": {
    "name": "ipython",
    "version": 2
   },
   "file_extension": ".py",
   "mimetype": "text/x-python",
   "name": "python",
   "nbconvert_exporter": "python",
   "pygments_lexer": "ipython2",
   "version": "2.7.16"
  }
 },
 "nbformat": 4,
 "nbformat_minor": 2
}
