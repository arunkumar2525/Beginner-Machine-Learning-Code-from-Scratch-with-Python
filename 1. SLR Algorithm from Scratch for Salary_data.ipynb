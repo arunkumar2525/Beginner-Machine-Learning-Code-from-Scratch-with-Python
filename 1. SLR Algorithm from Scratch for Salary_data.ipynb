{
 "cells": [
  {
   "cell_type": "markdown",
   "metadata": {},
   "source": [
    "1. Building Simple linear regression model\n",
    "2. find accuracy for insurance dataset using simple linear regression\n",
    "3. mean= sum(values of an input x[i])/total values of an input x\n",
    "4. variance=sum(value x[i] - mean)^2\n",
    "5. Covariance=sum(values of an input varible 1 - mean of variable 1)*(value of an input variable 2 - mean of varaible 2)\n",
    "6. simple linear regression=b0+b1*x[i]\n",
    "7. b1=covariance/variance\n",
    "8. b0=mean of y - b1 * mean of x"
   ]
  },
  {
   "cell_type": "code",
   "execution_count": 88,
   "metadata": {},
   "outputs": [],
   "source": [
    "# Importing the required libraries\n",
    "from random import randrange\n",
    "from random import seed\n",
    "from csv import reader\n",
    "from math import sqrt"
   ]
  },
  {
   "cell_type": "code",
   "execution_count": 89,
   "metadata": {},
   "outputs": [],
   "source": [
    "# Funtion to Load the csv dataset\n",
    "def load_csv(fileName):\n",
    "    dataset=list()\n",
    "    openfile=open(fileName,'r')\n",
    "    readfile=reader(openfile)\n",
    "    for row in readfile:\n",
    "        if not row:\n",
    "            continue\n",
    "        dataset.append(row)\n",
    "    print('dataset from load_csv function',dataset[0])\n",
    "    return dataset"
   ]
  },
  {
   "cell_type": "code",
   "execution_count": 90,
   "metadata": {},
   "outputs": [],
   "source": [
    "# Funtion to convert string column values to float column values\n",
    "def convert_string_to_float(dataset,column):\n",
    "    for row in dataset:\n",
    "        row[column]=float(row[column])\n",
    "    print(\"converted string to float value :\",dataset[0])\n",
    "        "
   ]
  },
  {
   "cell_type": "code",
   "execution_count": 91,
   "metadata": {},
   "outputs": [],
   "source": [
    "# Calculating the accuracy of an algorithm\n",
    "def accuracy_algorithm(actual,predicted):\n",
    "    correct=0\n",
    "    for i in range(len(actual)):\n",
    "        if actual[i] == predicted[i]:\n",
    "            correct+=1\n",
    "    print(\"accuracy of an algorithm is :\",correct/float(len(actual))*100.0)\n",
    "    return correct/float(len(actual))*100.0\n",
    "        "
   ]
  },
  {
   "cell_type": "code",
   "execution_count": 92,
   "metadata": {},
   "outputs": [],
   "source": [
    "# Calculating the mean for an input variable\n",
    "def mean(x_value):\n",
    "    print(\"mean for an input dataset : \",sum(x_value)/float(len(x_value)))\n",
    "    return sum(x_value)/float(len(x_value))"
   ]
  },
  {
   "cell_type": "code",
   "execution_count": 93,
   "metadata": {},
   "outputs": [],
   "source": [
    "# Calculating the variance for an input variable\n",
    "def variance(x_value,mean):\n",
    "    variance=sum([(x- mean)**2 for x in x_value])\n",
    "    print(\"variance for an input variable\",variance)\n",
    "    return variance"
   ]
  },
  {
   "cell_type": "code",
   "execution_count": 94,
   "metadata": {},
   "outputs": [],
   "source": [
    "# Calculating the covariance for both input and output variable\n",
    "def covaraince(x,x_mean,y,y_mean):\n",
    "    covariance=0\n",
    "    for i in range(len(x)):\n",
    "        covariance+=(x[i]-x_mean)*(y[i]-y_mean)\n",
    "    print(\"covariance value for both input and output variable\",covariance)\n",
    "    return covariance       \n",
    "        "
   ]
  },
  {
   "cell_type": "code",
   "execution_count": 95,
   "metadata": {},
   "outputs": [],
   "source": [
    "# Splitting the dataset into train and test set\n",
    "def train_test_split(dataset,split):\n",
    "    train=list()\n",
    "    train_size=split*len(dataset)\n",
    "    dataset_copy=list(dataset)\n",
    "    while len(train)<train_size:\n",
    "        index=randrange(len(dataset_copy))\n",
    "        train.append(dataset_copy.pop(index))\n",
    "    return train,dataset_copy"
   ]
  },
  {
   "cell_type": "code",
   "execution_count": 96,
   "metadata": {},
   "outputs": [],
   "source": [
    "# finding the Coeffictient's b0,b1 for simple linear regression algorithm\n",
    "def coefficent(dataset):\n",
    "    x=[row[0] for row in dataset]\n",
    "    y=[row[1] for row in dataset]\n",
    "    x_mean=mean(x)\n",
    "    y_mean=mean(y)\n",
    "    b1=covaraince(x,x_mean,y,y_mean)/variance(x,x_mean)\n",
    "    print(\"coefficient of b1 is \",b1)\n",
    "    b0=y_mean-(b1*x_mean)\n",
    "    print(\"coefficient of b0 is \",b0)\n",
    "    return [b0,b1]"
   ]
  },
  {
   "cell_type": "code",
   "execution_count": 97,
   "metadata": {},
   "outputs": [],
   "source": [
    "# Evaluating the accuracy of a simple linear regression model\n",
    "def evaluate_algorithm(dataset,algorithm,split,*args):\n",
    "    train,test=train_test_split(dataset,split)\n",
    "    test_set=list()\n",
    "    for row in test:\n",
    "        row_copy=list(row)\n",
    "        # Each output value is cleard by setting as None row_copy[-1]---- last column of our dataset\n",
    "        # It will clear output values only input values will be there only.\n",
    "        # we are predicting the outcome of our test data\n",
    "        row_copy[-1]=None\n",
    "        test_set.append(row_copy)\n",
    "    # Model predicted test output values\n",
    "    predicted=algorithm(train,test_set,*args)\n",
    "    # actual predicted test output values\n",
    "    actual=[row[-1] for row in test]\n",
    "    print('-----------------------actual-----------------------')\n",
    "    print(actual)\n",
    "    print('------------------------predicted-------------------')\n",
    "    print(predicted)\n",
    "    print('----------------------------------------------------')\n",
    "    accuracy=accuracy_algorithm(actual,predicted)\n",
    "    print(\"accuracy of an algorithm is \",accuracy)\n",
    "    return accuracy"
   ]
  },
  {
   "cell_type": "code",
   "execution_count": 98,
   "metadata": {},
   "outputs": [],
   "source": [
    "# Building the simple linear regression algorithm\n",
    "def simple_linear_regression_algorithm(train,test):\n",
    "    prediction=list()\n",
    "    b0,b1=coefficent(train)\n",
    "    for row in test:\n",
    "        # row[0] input column values\n",
    "        yhat=b0+b1*row[0]\n",
    "        prediction.append(yhat)\n",
    "        print(yhat)\n",
    "        #print(\"simple linear regression algorithm accuracy is prediction \",prediction)\n",
    "    #predicted=[prediction for i in range(len(test))]\n",
    "    #print(\"simple linear regression algorithm accuracy is \",predicted)\n",
    "    return prediction"
   ]
  },
  {
   "cell_type": "code",
   "execution_count": 99,
   "metadata": {},
   "outputs": [
    {
     "name": "stdout",
     "output_type": "stream",
     "text": [
      "('dataset from load_csv function', ['1.1', '39343'])\n",
      "('converted string to float value :', [1.1, '39343'])\n",
      "('converted string to float value :', [1.1, 39343.0])\n"
     ]
    }
   ],
   "source": [
    "# Loading the csv file\n",
    "fileName='Salary_Data.csv'\n",
    "dataset=load_csv(fileName)\n",
    "#Convert string column to float\n",
    "for i in range(len(dataset[0])):\n",
    "    convert_string_to_float(dataset,i)"
   ]
  },
  {
   "cell_type": "code",
   "execution_count": 100,
   "metadata": {},
   "outputs": [
    {
     "name": "stdout",
     "output_type": "stream",
     "text": [
      "('mean for an input dataset : ', 5.972222222222222)\n",
      "('mean for an input dataset : ', 82921.38888888889)\n",
      "('covariance value for both input and output variable', 1545870.0944444444)\n",
      "('variance for an input variable', 159.89611111111108)\n",
      "('coefficient of b1 is ', 9667.965554022927)\n",
      "('coefficient of b0 is ', 25182.150163474187)\n",
      "37750.5053837\n",
      "46451.6743823\n",
      "54186.0468255\n",
      "56119.6399363\n",
      "56119.6399363\n",
      "60953.6227134\n",
      "62887.2158242\n",
      "68687.9951566\n",
      "72555.1813782\n",
      "74488.774489\n",
      "101559.07804\n",
      "112193.84015\n",
      "-----------------------actual-----------------------\n",
      "[46205.0, 39891.0, 60150.0, 54445.0, 64445.0, 57189.0, 63218.0, 61111.0, 67938.0, 66029.0, 101302.0, 105582.0]\n",
      "------------------------predicted-------------------\n",
      "[37750.50538370399, 46451.67438232463, 54186.046825542966, 56119.63993634755, 56119.63993634755, 60953.62271335902, 62887.2158241636, 68687.99515657735, 72555.18137818653, 74488.77448899111, 101559.0780402553, 112193.84014968053]\n",
      "----------------------------------------------------\n",
      "('accuracy of an algorithm is :', 0.0)\n",
      "('accuracy of an algorithm is ', 0.0)\n"
     ]
    }
   ],
   "source": [
    "# accuracy of a model\n",
    "accuracy=evaluate_algorithm(dataset,simple_linear_regression_algorithm,split=0.60)"
   ]
  },
  {
   "cell_type": "markdown",
   "metadata": {},
   "source": [
    " Accuracy of a model is zero because non of the actual and predicted values are same so our model accuracy is zero.\n",
    " we need to imporove the accuracy predicted model with better logic"
   ]
  }
 ],
 "metadata": {
  "kernelspec": {
   "display_name": "Python 3",
   "language": "python",
   "name": "python3"
  },
  "language_info": {
   "codemirror_mode": {
    "name": "ipython",
    "version": 3
   },
   "file_extension": ".py",
   "mimetype": "text/x-python",
   "name": "python",
   "nbconvert_exporter": "python",
   "pygments_lexer": "ipython3",
   "version": "3.7.4"
  }
 },
 "nbformat": 4,
 "nbformat_minor": 2
}
