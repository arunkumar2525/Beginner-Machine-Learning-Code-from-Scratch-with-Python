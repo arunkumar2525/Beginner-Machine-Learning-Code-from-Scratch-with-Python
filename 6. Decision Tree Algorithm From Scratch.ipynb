{
 "cells": [
  {
   "cell_type": "code",
   "execution_count": null,
   "metadata": {},
   "outputs": [],
   "source": [
    "# Decision Tree Classification Algorithm for BankNote case study"
   ]
  },
  {
   "cell_type": "code",
   "execution_count": 1,
   "metadata": {},
   "outputs": [],
   "source": [
    "# Load csv file function\n",
    "from csv import reader\n",
    "def load_csv(filename):\n",
    "    dataset=list()\n",
    "    open_file=open(filename,'r')\n",
    "    read_file=reader(open_file)\n",
    "    for row in read_file:\n",
    "        if not row:\n",
    "            continue\n",
    "        dataset.append(row)\n",
    "    return dataset"
   ]
  },
  {
   "cell_type": "code",
   "execution_count": 2,
   "metadata": {},
   "outputs": [],
   "source": [
    "# convert String column value to float value\n",
    "def convert_str_to_float(dataset,column):\n",
    "    for row in dataset:\n",
    "        row[column]=float(row[column])"
   ]
  },
  {
   "cell_type": "code",
   "execution_count": 3,
   "metadata": {},
   "outputs": [],
   "source": [
    "# Accuracy metrics for a model\n",
    "def accuracy_metrics(actual,predicted):\n",
    "    correct=0\n",
    "    for i in range(len(actual)):\n",
    "        if actual[i]==predicted[i]:\n",
    "            correct+=1\n",
    "    return correct/float(len(actual))*100.0"
   ]
  },
  {
   "cell_type": "code",
   "execution_count": 4,
   "metadata": {},
   "outputs": [],
   "source": [
    "# Split a dataset into kfold\n",
    "from random import seed\n",
    "from random import randrange\n",
    "def KFold(dataset,folds):\n",
    "    fold_value=list()\n",
    "    dataset_copy=list(dataset)\n",
    "    fold_size=int(len(dataset)/folds)\n",
    "    for _ in range(folds):\n",
    "        fold=list()\n",
    "        while len(fold)<fold_size:\n",
    "            index=randrange(len(dataset_copy))\n",
    "            fold.append(dataset_copy.pop(index))\n",
    "        fold_value.append(fold)\n",
    "    return fold_value"
   ]
  },
  {
   "cell_type": "code",
   "execution_count": 5,
   "metadata": {},
   "outputs": [],
   "source": [
    "# Evaluate an algorithm using KFold Cross validation split\n",
    "def evaluate_model(dataset,algorithm,folds,*args):\n",
    "    folds=KFold(dataset,folds)\n",
    "    accuracy=list()\n",
    "    for fold in folds:\n",
    "        train_set=list(folds)\n",
    "        train_set.remove(fold)\n",
    "        train_set=sum(train_set, [])\n",
    "        test_set=list()\n",
    "        for row in fold:\n",
    "            row_copy=list(row)\n",
    "            test_set.append(row_copy)\n",
    "            row_copy[-1]=None\n",
    "        predicted=algorithm(train_set,test_set,*args)\n",
    "        actual=[row[-1] for row in fold]\n",
    "        accuracy_value=accuracy_metrics(actual,predicted)\n",
    "        accuracy.append(accuracy_value)\n",
    "    return accuracy"
   ]
  },
  {
   "cell_type": "code",
   "execution_count": 68,
   "metadata": {},
   "outputs": [],
   "source": [
    "# Decision Tree Classification algorithm \n",
    "def decision_tree_classification(train,test,max_depth,min_size):\n",
    "    predictions=list()\n",
    "    # function\n",
    "    tree=build_tree(train,max_depth,min_size)\n",
    "    for row in test:\n",
    "        predict=prediction(tree,row)\n",
    "        predictions.append(predict)\n",
    "    return predictions"
   ]
  },
  {
   "cell_type": "code",
   "execution_count": 69,
   "metadata": {},
   "outputs": [],
   "source": [
    "# Build tree funtion \n",
    "def build_tree(dataset,max_depth,min_size):\n",
    "    # function\n",
    "    root=split_tree(dataset)\n",
    "    split(root,max_depth,min_size,1)\n",
    "    return root"
   ]
  },
  {
   "cell_type": "code",
   "execution_count": 70,
   "metadata": {},
   "outputs": [],
   "source": [
    "# Split tree function\n",
    "def split_tree(dataset):\n",
    "    class_values=list(set([row[-1] for row in dataset]))\n",
    "    b_index,b_value,b_score,b_groups=999,999,999,None\n",
    "    for index in range(len(dataset[0])-1):\n",
    "        for row in dataset:\n",
    "            # group split function\n",
    "            groups=split_data(index,row[index],dataset)\n",
    "            # gini index\n",
    "            gini=gini_index(groups,class_values)\n",
    "            b_index,b_value,b_score,b_groups=index,row[index],gini,groups\n",
    "    return {'index':b_index,'value':b_value,'groups':b_groups}"
   ]
  },
  {
   "cell_type": "code",
   "execution_count": 71,
   "metadata": {},
   "outputs": [],
   "source": [
    "# Building split data function\n",
    "def split_data(index,value,dataset):\n",
    "    left,right=list(),list()\n",
    "    for row in dataset:\n",
    "        if row[index]<value:\n",
    "            left.append(row)\n",
    "        else:\n",
    "            right.append(row)\n",
    "    return left,right"
   ]
  },
  {
   "cell_type": "code",
   "execution_count": 72,
   "metadata": {},
   "outputs": [],
   "source": [
    "# Building gini_index function\n",
    "def gini_index(groups,classes):\n",
    "    n_instance=float(sum([len(group) for group in groups]))\n",
    "    gini=0.0\n",
    "    for group in groups:\n",
    "        size=float(len(group))\n",
    "        if size==0:\n",
    "            continue\n",
    "        score=0.0\n",
    "        for class_val in classes:\n",
    "            p=[row[-1] for row in group].count(class_val)/size\n",
    "            score=p*p\n",
    "        gini+=(1.0-score)*(size/n_instance)\n",
    "    return gini"
   ]
  },
  {
   "cell_type": "code",
   "execution_count": 73,
   "metadata": {},
   "outputs": [],
   "source": [
    "# create child splits for a node\n",
    "def split(node,max_depth,min_size,depth):\n",
    "    left,right=node['groups']\n",
    "    del(node['groups'])\n",
    "    # Checking for no split\n",
    "    if not left or not right:\n",
    "        node['left']=node['right']=to_terminal(left+right)\n",
    "        return\n",
    "    # checking for max depth\n",
    "    if depth>=max_depth:\n",
    "        node['left'],node['right']=to_terminal(left),to_terminal(right)\n",
    "        return\n",
    "    # processing left child\n",
    "    if len(left)<=min_size:\n",
    "        node['left']=to_terminal(left)\n",
    "    else:\n",
    "        node['left']=split_tree(left)\n",
    "        split(node['left'],max_depth,min_size,depth+1)\n",
    "    # processing right child\n",
    "    if len(right)<=min_size:\n",
    "        node['right']=to_terminal(right)\n",
    "    else:\n",
    "        node['right']=split_tree(right)\n",
    "        split(node['right'],max_depth,min_size,depth+1)      \n",
    "    "
   ]
  },
  {
   "cell_type": "code",
   "execution_count": 74,
   "metadata": {},
   "outputs": [],
   "source": [
    "def to_terminal(group):\n",
    "    outcomes=[row[-1] for row in group]\n",
    "    return max(set(outcomes),key=outcomes.count)"
   ]
  },
  {
   "cell_type": "code",
   "execution_count": 75,
   "metadata": {},
   "outputs": [],
   "source": [
    "def prediction(node,row):\n",
    "    if row[node['index']]<node['value']:\n",
    "        if isinstance(node['left'],dict):\n",
    "            return prediction(node['left'],row)\n",
    "        else:\n",
    "            return node['left']\n",
    "    else:\n",
    "        if isinstance(node['right'],dict):\n",
    "            return prediction(node['right'],row)\n",
    "        else:\n",
    "            return node['right']"
   ]
  },
  {
   "cell_type": "code",
   "execution_count": 76,
   "metadata": {},
   "outputs": [
    {
     "name": "stdout",
     "output_type": "stream",
     "text": [
      "('accuracy', [58.3941605839416, 55.47445255474452, 59.12408759124088, 49.63503649635037, 51.82481751824818, 53.284671532846716, 56.20437956204379, 59.854014598540154, 54.01459854014598, 58.3941605839416])\n"
     ]
    }
   ],
   "source": [
    "# Test Cart on Bank Note Dataset\n",
    "seed(1)\n",
    "filename='data_banknote_authentication.csv'\n",
    "dataset=load_csv(filename)\n",
    "for column in range(len(dataset[0])):\n",
    "    convert_str_to_float(dataset,column)\n",
    "folds=10\n",
    "max_depth=5\n",
    "min_size=10\n",
    "accuracy=evaluate_model(dataset,decision_tree_classification,folds,max_depth,min_size)\n",
    "print(\"accuracy\",accuracy)"
   ]
  },
  {
   "cell_type": "code",
   "execution_count": 77,
   "metadata": {},
   "outputs": [
    {
     "name": "stdout",
     "output_type": "stream",
     "text": [
      "------------Mean Accuracy-------------------\n",
      "55.6204379562\n"
     ]
    }
   ],
   "source": [
    "print(\"------------Mean Accuracy-------------------\")\n",
    "print(sum(accuracy)/float(len(accuracy)))"
   ]
  },
  {
   "cell_type": "code",
   "execution_count": null,
   "metadata": {},
   "outputs": [],
   "source": []
  }
 ],
 "metadata": {
  "kernelspec": {
   "display_name": "Python 2",
   "language": "python",
   "name": "python2"
  },
  "language_info": {
   "codemirror_mode": {
    "name": "ipython",
    "version": 2
   },
   "file_extension": ".py",
   "mimetype": "text/x-python",
   "name": "python",
   "nbconvert_exporter": "python",
   "pygments_lexer": "ipython2",
   "version": "2.7.16"
  }
 },
 "nbformat": 4,
 "nbformat_minor": 2
}
